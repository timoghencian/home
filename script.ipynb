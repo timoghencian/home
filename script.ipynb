import csv
list = []
test = []
new = []

with open("shop.csv", 'r',) as csvfile:
    reader = csv.reader(csvfile, delimiter=",")
    for row in reader:
        list.append(row)

with open("new.txt", 'r',) as text:
    
    reader = csv.reader(text, delimiter=",")
    for row in reader:
        new.append(row)
test.append(list[1])
for i in range(15):
    list.append(list[1].copy())
for i in range(15):
    list[i+2][0] = new[2][i+1]
    list[i+2][3] = "Saltea Superortopedica 16 cm - " + new[0][i+1]
    list[i+2][40] = new[0][i+1]
    list[i+2][25] = new[1][i+1]
for i in range(16):
    list[i+1][38] = new[3][i]

for i in list[1:]:
    print(i)
with open('export.csv', 'w', newline='') as export:
    writer = csv.writer(export)
    for i in list:
        writer.writerow(i)

